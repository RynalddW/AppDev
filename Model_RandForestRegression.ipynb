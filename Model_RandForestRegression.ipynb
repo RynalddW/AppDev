{
 "cells": [
  {
   "cell_type": "code",
   "execution_count": 23,
   "metadata": {},
   "outputs": [],
   "source": [
    "from sklearn.ensemble import RandomForestRegressor\n",
    "from sklearn.decomposition import PCA\n",
    "from sklearn.model_selection import train_test_split\n",
    "from sklearn.preprocessing import StandardScaler\n",
    "from sklearn.metrics import accuracy_score\n",
    "import matplotlib.pyplot as plt\n",
    "import pandas as pd\n",
    "import numpy as np\n",
    "import seaborn as sns\n",
    "import pickle\n",
    "\n",
    "from matplotlib import pyplot\n",
    "from pandas.plotting import autocorrelation_plot\n",
    "from sklearn.metrics import mean_squared_error\n",
    "\n",
    "from sklearn.metrics import r2_score"
   ]
  },
  {
   "cell_type": "code",
   "execution_count": 2,
   "metadata": {},
   "outputs": [],
   "source": [
    "solargeneration = pd.read_csv('solar_generation_data.csv', sep=',')"
   ]
  },
  {
   "cell_type": "code",
   "execution_count": 3,
   "metadata": {},
   "outputs": [],
   "source": [
    "windgeneration = pd.read_csv('wind_generation_data.csv', sep=',')"
   ]
  },
  {
   "cell_type": "code",
   "execution_count": 4,
   "metadata": {},
   "outputs": [
    {
     "data": {
      "text/plain": [
       "Index(['wind speed', 'direction', 'Power Output'], dtype='object')"
      ]
     },
     "execution_count": 4,
     "metadata": {},
     "output_type": "execute_result"
    }
   ],
   "source": [
    "windgeneration.columns"
   ]
  },
  {
   "cell_type": "code",
   "execution_count": 5,
   "metadata": {},
   "outputs": [
    {
     "data": {
      "text/plain": [
       "Index(['Month ', 'Day', 'Temp Hi', 'Temp Low', 'Solar',\n",
       "       'Cloud Cover Percentage', 'Rainfall in mm', 'Power Generated in MW'],\n",
       "      dtype='object')"
      ]
     },
     "execution_count": 5,
     "metadata": {},
     "output_type": "execute_result"
    }
   ],
   "source": [
    "solargeneration.columns"
   ]
  },
  {
   "cell_type": "code",
   "execution_count": 6,
   "metadata": {},
   "outputs": [],
   "source": [
    "solargeneration = solargeneration.fillna(0)"
   ]
  },
  {
   "cell_type": "code",
   "execution_count": 31,
   "metadata": {},
   "outputs": [
    {
     "data": {
      "text/html": [
       "<div>\n",
       "<style scoped>\n",
       "    .dataframe tbody tr th:only-of-type {\n",
       "        vertical-align: middle;\n",
       "    }\n",
       "\n",
       "    .dataframe tbody tr th {\n",
       "        vertical-align: top;\n",
       "    }\n",
       "\n",
       "    .dataframe thead th {\n",
       "        text-align: right;\n",
       "    }\n",
       "</style>\n",
       "<table border=\"1\" class=\"dataframe\">\n",
       "  <thead>\n",
       "    <tr style=\"text-align: right;\">\n",
       "      <th></th>\n",
       "      <th>Month</th>\n",
       "      <th>Day</th>\n",
       "      <th>Temp Hi</th>\n",
       "      <th>Temp Low</th>\n",
       "      <th>Solar</th>\n",
       "      <th>Cloud Cover Percentage</th>\n",
       "      <th>Rainfall in mm</th>\n",
       "      <th>Power Generated in MW</th>\n",
       "      <th>temp_avg</th>\n",
       "    </tr>\n",
       "  </thead>\n",
       "  <tbody>\n",
       "    <tr>\n",
       "      <td>0</td>\n",
       "      <td>Jan</td>\n",
       "      <td>1</td>\n",
       "      <td>109</td>\n",
       "      <td>85</td>\n",
       "      <td>30.0</td>\n",
       "      <td>9</td>\n",
       "      <td>0.0</td>\n",
       "      <td>9.93</td>\n",
       "      <td>97.0</td>\n",
       "    </tr>\n",
       "    <tr>\n",
       "      <td>1</td>\n",
       "      <td>Jan</td>\n",
       "      <td>2</td>\n",
       "      <td>106</td>\n",
       "      <td>71</td>\n",
       "      <td>30.1</td>\n",
       "      <td>9</td>\n",
       "      <td>0.0</td>\n",
       "      <td>9.97</td>\n",
       "      <td>88.5</td>\n",
       "    </tr>\n",
       "    <tr>\n",
       "      <td>2</td>\n",
       "      <td>Jan</td>\n",
       "      <td>3</td>\n",
       "      <td>106</td>\n",
       "      <td>81</td>\n",
       "      <td>29.5</td>\n",
       "      <td>9</td>\n",
       "      <td>0.0</td>\n",
       "      <td>9.77</td>\n",
       "      <td>93.5</td>\n",
       "    </tr>\n",
       "    <tr>\n",
       "      <td>3</td>\n",
       "      <td>Jan</td>\n",
       "      <td>4</td>\n",
       "      <td>102</td>\n",
       "      <td>83</td>\n",
       "      <td>13.0</td>\n",
       "      <td>4</td>\n",
       "      <td>0.0</td>\n",
       "      <td>4.30</td>\n",
       "      <td>92.5</td>\n",
       "    </tr>\n",
       "    <tr>\n",
       "      <td>4</td>\n",
       "      <td>Jan</td>\n",
       "      <td>5</td>\n",
       "      <td>105</td>\n",
       "      <td>80</td>\n",
       "      <td>30.1</td>\n",
       "      <td>9</td>\n",
       "      <td>0.0</td>\n",
       "      <td>9.97</td>\n",
       "      <td>92.5</td>\n",
       "    </tr>\n",
       "    <tr>\n",
       "      <td>...</td>\n",
       "      <td>...</td>\n",
       "      <td>...</td>\n",
       "      <td>...</td>\n",
       "      <td>...</td>\n",
       "      <td>...</td>\n",
       "      <td>...</td>\n",
       "      <td>...</td>\n",
       "      <td>...</td>\n",
       "      <td>...</td>\n",
       "    </tr>\n",
       "    <tr>\n",
       "      <td>360</td>\n",
       "      <td>Dec</td>\n",
       "      <td>27</td>\n",
       "      <td>101</td>\n",
       "      <td>83</td>\n",
       "      <td>26.4</td>\n",
       "      <td>8</td>\n",
       "      <td>0.0</td>\n",
       "      <td>8.74</td>\n",
       "      <td>92.0</td>\n",
       "    </tr>\n",
       "    <tr>\n",
       "      <td>361</td>\n",
       "      <td>Dec</td>\n",
       "      <td>28</td>\n",
       "      <td>102</td>\n",
       "      <td>84</td>\n",
       "      <td>25.8</td>\n",
       "      <td>8</td>\n",
       "      <td>0.0</td>\n",
       "      <td>8.54</td>\n",
       "      <td>93.0</td>\n",
       "    </tr>\n",
       "    <tr>\n",
       "      <td>362</td>\n",
       "      <td>Dec</td>\n",
       "      <td>29</td>\n",
       "      <td>104</td>\n",
       "      <td>83</td>\n",
       "      <td>26.9</td>\n",
       "      <td>8</td>\n",
       "      <td>0.0</td>\n",
       "      <td>8.91</td>\n",
       "      <td>93.5</td>\n",
       "    </tr>\n",
       "    <tr>\n",
       "      <td>363</td>\n",
       "      <td>Dec</td>\n",
       "      <td>30</td>\n",
       "      <td>105</td>\n",
       "      <td>80</td>\n",
       "      <td>25.1</td>\n",
       "      <td>8</td>\n",
       "      <td>0.0</td>\n",
       "      <td>8.31</td>\n",
       "      <td>92.5</td>\n",
       "    </tr>\n",
       "    <tr>\n",
       "      <td>364</td>\n",
       "      <td>Dec</td>\n",
       "      <td>31</td>\n",
       "      <td>108</td>\n",
       "      <td>81</td>\n",
       "      <td>29.0</td>\n",
       "      <td>9</td>\n",
       "      <td>0.0</td>\n",
       "      <td>9.60</td>\n",
       "      <td>94.5</td>\n",
       "    </tr>\n",
       "  </tbody>\n",
       "</table>\n",
       "<p>365 rows × 9 columns</p>\n",
       "</div>"
      ],
      "text/plain": [
       "    Month   Day  Temp Hi  Temp Low  Solar  Cloud Cover Percentage  \\\n",
       "0      Jan    1      109        85   30.0                       9   \n",
       "1      Jan    2      106        71   30.1                       9   \n",
       "2      Jan    3      106        81   29.5                       9   \n",
       "3      Jan    4      102        83   13.0                       4   \n",
       "4      Jan    5      105        80   30.1                       9   \n",
       "..     ...  ...      ...       ...    ...                     ...   \n",
       "360    Dec   27      101        83   26.4                       8   \n",
       "361    Dec   28      102        84   25.8                       8   \n",
       "362    Dec   29      104        83   26.9                       8   \n",
       "363    Dec   30      105        80   25.1                       8   \n",
       "364    Dec   31      108        81   29.0                       9   \n",
       "\n",
       "     Rainfall in mm  Power Generated in MW  temp_avg  \n",
       "0               0.0                   9.93      97.0  \n",
       "1               0.0                   9.97      88.5  \n",
       "2               0.0                   9.77      93.5  \n",
       "3               0.0                   4.30      92.5  \n",
       "4               0.0                   9.97      92.5  \n",
       "..              ...                    ...       ...  \n",
       "360             0.0                   8.74      92.0  \n",
       "361             0.0                   8.54      93.0  \n",
       "362             0.0                   8.91      93.5  \n",
       "363             0.0                   8.31      92.5  \n",
       "364             0.0                   9.60      94.5  \n",
       "\n",
       "[365 rows x 9 columns]"
      ]
     },
     "execution_count": 31,
     "metadata": {},
     "output_type": "execute_result"
    }
   ],
   "source": [
    "col = solargeneration.loc[: , \"Temp Hi\":\"Temp Low\"]\n",
    "solargeneration['temp_avg'] = col.mean(axis=1)\n",
    "\n"
   ]
  },
  {
   "cell_type": "code",
   "execution_count": 7,
   "metadata": {},
   "outputs": [],
   "source": [
    "windgeneration = windgeneration.fillna(0)"
   ]
  },
  {
   "cell_type": "code",
   "execution_count": 32,
   "metadata": {},
   "outputs": [],
   "source": [
    "Xsolar = solargeneration[['temp_avg', 'Cloud Cover Percentage', 'Rainfall in mm']].values\n",
    "Ysolar = solargeneration['Power Generated in MW'].values"
   ]
  },
  {
   "cell_type": "code",
   "execution_count": 33,
   "metadata": {},
   "outputs": [],
   "source": [
    "Xwind = windgeneration[['wind speed', 'direction']].values\n",
    "Ywind = windgeneration['Power Output'].values"
   ]
  },
  {
   "cell_type": "code",
   "execution_count": 51,
   "metadata": {},
   "outputs": [
    {
     "data": {
      "text/html": [
       "<div>\n",
       "<style scoped>\n",
       "    .dataframe tbody tr th:only-of-type {\n",
       "        vertical-align: middle;\n",
       "    }\n",
       "\n",
       "    .dataframe tbody tr th {\n",
       "        vertical-align: top;\n",
       "    }\n",
       "\n",
       "    .dataframe thead th {\n",
       "        text-align: right;\n",
       "    }\n",
       "</style>\n",
       "<table border=\"1\" class=\"dataframe\">\n",
       "  <thead>\n",
       "    <tr style=\"text-align: right;\">\n",
       "      <th></th>\n",
       "      <th>wind speed</th>\n",
       "      <th>direction</th>\n",
       "      <th>Power Output</th>\n",
       "    </tr>\n",
       "  </thead>\n",
       "  <tbody>\n",
       "    <tr>\n",
       "      <td>0</td>\n",
       "      <td>16.00</td>\n",
       "      <td>218</td>\n",
       "      <td>34.76</td>\n",
       "    </tr>\n",
       "    <tr>\n",
       "      <td>1</td>\n",
       "      <td>15.91</td>\n",
       "      <td>218</td>\n",
       "      <td>36.59</td>\n",
       "    </tr>\n",
       "    <tr>\n",
       "      <td>2</td>\n",
       "      <td>15.82</td>\n",
       "      <td>218</td>\n",
       "      <td>32.35</td>\n",
       "    </tr>\n",
       "    <tr>\n",
       "      <td>3</td>\n",
       "      <td>15.73</td>\n",
       "      <td>218</td>\n",
       "      <td>39.37</td>\n",
       "    </tr>\n",
       "    <tr>\n",
       "      <td>4</td>\n",
       "      <td>15.64</td>\n",
       "      <td>218</td>\n",
       "      <td>33.22</td>\n",
       "    </tr>\n",
       "    <tr>\n",
       "      <td>...</td>\n",
       "      <td>...</td>\n",
       "      <td>...</td>\n",
       "      <td>...</td>\n",
       "    </tr>\n",
       "    <tr>\n",
       "      <td>361</td>\n",
       "      <td>10.59</td>\n",
       "      <td>233</td>\n",
       "      <td>40.49</td>\n",
       "    </tr>\n",
       "    <tr>\n",
       "      <td>362</td>\n",
       "      <td>10.36</td>\n",
       "      <td>233</td>\n",
       "      <td>34.65</td>\n",
       "    </tr>\n",
       "    <tr>\n",
       "      <td>363</td>\n",
       "      <td>10.12</td>\n",
       "      <td>234</td>\n",
       "      <td>39.53</td>\n",
       "    </tr>\n",
       "    <tr>\n",
       "      <td>364</td>\n",
       "      <td>9.87</td>\n",
       "      <td>234</td>\n",
       "      <td>32.29</td>\n",
       "    </tr>\n",
       "    <tr>\n",
       "      <td>365</td>\n",
       "      <td>9.62</td>\n",
       "      <td>234</td>\n",
       "      <td>40.46</td>\n",
       "    </tr>\n",
       "  </tbody>\n",
       "</table>\n",
       "<p>366 rows × 3 columns</p>\n",
       "</div>"
      ],
      "text/plain": [
       "     wind speed  direction  Power Output\n",
       "0         16.00        218         34.76\n",
       "1         15.91        218         36.59\n",
       "2         15.82        218         32.35\n",
       "3         15.73        218         39.37\n",
       "4         15.64        218         33.22\n",
       "..          ...        ...           ...\n",
       "361       10.59        233         40.49\n",
       "362       10.36        233         34.65\n",
       "363       10.12        234         39.53\n",
       "364        9.87        234         32.29\n",
       "365        9.62        234         40.46\n",
       "\n",
       "[366 rows x 3 columns]"
      ]
     },
     "execution_count": 51,
     "metadata": {},
     "output_type": "execute_result"
    }
   ],
   "source": [
    "windgeneration"
   ]
  },
  {
   "cell_type": "code",
   "execution_count": 35,
   "metadata": {},
   "outputs": [],
   "source": [
    "Xsolar_train, Xsolar_test, ysolar_train, ysolar_test = train_test_split(Xsolar, Ysolar, test_size=0.25, random_state=42)"
   ]
  },
  {
   "cell_type": "code",
   "execution_count": 36,
   "metadata": {},
   "outputs": [],
   "source": [
    "modelsolar = RandomForestRegressor(n_jobs=-1)"
   ]
  },
  {
   "cell_type": "code",
   "execution_count": 37,
   "metadata": {},
   "outputs": [
    {
     "data": {
      "text/plain": [
       "[<matplotlib.lines.Line2D at 0x20796384888>]"
      ]
     },
     "execution_count": 37,
     "metadata": {},
     "output_type": "execute_result"
    },
    {
     "data": {
      "image/png": "[encoded data removed]",
      "text/plain": [
       "<Figure size 432x288 with 1 Axes>"
      ]
     },
     "metadata": {
      "needs_background": "light"
     },
     "output_type": "display_data"
    }
   ],
   "source": [
    "# Try different numbers of n_estimators or trees - this will take a minute or so\n",
    "estimators = np.arange(1, 33, 10)\n",
    "scores = []\n",
    "for n in estimators:\n",
    "    modelsolar.set_params(n_estimators=n)\n",
    "    modelsolar.fit(Xsolar_train, ysolar_train)\n",
    "    scores.append(modelsolar.score(Xsolar_test, ysolar_test))\n",
    "plt.title(\"Effect of n_estimators\")\n",
    "plt.xlabel(\"n_estimator\")\n",
    "plt.ylabel(\"score\")\n",
    "plt.plot(estimators, scores)"
   ]
  },
  {
   "cell_type": "code",
   "execution_count": 38,
   "metadata": {},
   "outputs": [
    {
     "data": {
      "text/plain": [
       "RandomForestRegressor(bootstrap=True, criterion='mse', max_depth=None,\n",
       "                      max_features='auto', max_leaf_nodes=None,\n",
       "                      min_impurity_decrease=0.0, min_impurity_split=None,\n",
       "                      min_samples_leaf=1, min_samples_split=2,\n",
       "                      min_weight_fraction_leaf=0.0, n_estimators=31, n_jobs=-1,\n",
       "                      oob_score=False, random_state=None, verbose=0,\n",
       "                      warm_start=False)"
      ]
     },
     "execution_count": 38,
     "metadata": {},
     "output_type": "execute_result"
    }
   ],
   "source": [
    "modelsolar"
   ]
  },
  {
   "cell_type": "code",
   "execution_count": 39,
   "metadata": {},
   "outputs": [],
   "source": [
    "ysolar_predicted = modelsolar.predict(Xsolar_test)"
   ]
  },
  {
   "cell_type": "code",
   "execution_count": 40,
   "metadata": {},
   "outputs": [
    {
     "data": {
      "text/plain": [
       "array([6.28401306, 3.53193548, 8.54580645, 9.57599462, 8.56516129,\n",
       "       5.81709677, 8.56516129, 5.79080645, 5.74693548, 6.63807988,\n",
       "       9.48401613, 9.76711828, 9.57599462, 7.39005376, 6.63807988,\n",
       "       7.70695699, 9.88677419, 8.70736022, 9.42713441, 7.61032258,\n",
       "       9.86758833, 5.81709677, 8.44179109, 7.40800538, 7.83980645,\n",
       "       6.62806452, 6.25782949, 9.5687899 , 9.74396313, 8.49258065,\n",
       "       6.36123656, 7.73991091, 9.38233871, 9.40525346, 6.09032258,\n",
       "       6.57704301, 8.62365668, 8.56516129, 9.86758833, 9.42713441,\n",
       "       7.12741935, 9.3722043 , 3.07096774, 9.34717089, 7.62612903,\n",
       "       7.21064516, 7.23148694, 8.78870968, 8.68806452, 9.7592043 ,\n",
       "       7.21064516, 9.3722043 , 8.55225806, 8.10032258, 5.59320968,\n",
       "       9.39812942, 7.67630338, 4.22564516, 9.83258065, 8.39941935,\n",
       "       7.49574194, 9.3722043 , 8.71352074, 9.72138249, 7.62612903,\n",
       "       7.26871736, 6.69268817, 6.71978495, 6.25782949, 5.19741935,\n",
       "       7.61032258, 5.64359498, 8.71352074, 6.26967742, 9.45676959,\n",
       "       6.29516359, 8.56516129, 5.19741935, 9.74396313, 9.82774194,\n",
       "       8.55701613, 8.55701613, 9.3244086 , 6.36123656, 6.60478495,\n",
       "       9.76119355, 9.57599462, 7.4707957 , 3.04      , 6.59930108,\n",
       "       9.45676959, 8.79129032])"
      ]
     },
     "execution_count": 40,
     "metadata": {},
     "output_type": "execute_result"
    }
   ],
   "source": [
    "ysolar_predicted"
   ]
  },
  {
   "cell_type": "code",
   "execution_count": 41,
   "metadata": {},
   "outputs": [],
   "source": [
    "Xwind_train, Xwind_test, ywind_train, ywind_test = train_test_split(Xwind, Ywind, test_size=0.25, random_state=42)"
   ]
  },
  {
   "cell_type": "code",
   "execution_count": 42,
   "metadata": {},
   "outputs": [],
   "source": [
    "modelwind = RandomForestRegressor(n_jobs=-1)"
   ]
  },
  {
   "cell_type": "code",
   "execution_count": 43,
   "metadata": {},
   "outputs": [
    {
     "data": {
      "text/plain": [
       "[<matplotlib.lines.Line2D at 0x207960a5608>]"
      ]
     },
     "execution_count": 43,
     "metadata": {},
     "output_type": "execute_result"
    },
    {
     "data": {
      "image/png": "[encoded data removed]",
      "text/plain": [
       "<Figure size 432x288 with 1 Axes>"
      ]
     },
     "metadata": {
      "needs_background": "light"
     },
     "output_type": "display_data"
    }
   ],
   "source": [
    "# Try different numbers of n_estimators or trees - this will take a minute or so\n",
    "estimators = np.arange(1, 33, 10)\n",
    "scores = []\n",
    "for n in estimators:\n",
    "    modelwind.set_params(n_estimators=n)\n",
    "    modelwind.fit(Xwind_train, ywind_train)\n",
    "    scores.append(modelwind.score(Xwind_test, ywind_test))\n",
    "plt.title(\"Effect of n_estimators\")\n",
    "plt.xlabel(\"n_estimator\")\n",
    "plt.ylabel(\"score\")\n",
    "plt.plot(estimators, scores)"
   ]
  },
  {
   "cell_type": "code",
   "execution_count": 44,
   "metadata": {},
   "outputs": [],
   "source": [
    "ywind_predicted = modelwind.predict(Xwind_test)"
   ]
  },
  {
   "cell_type": "code",
   "execution_count": 45,
   "metadata": {},
   "outputs": [],
   "source": [
    "exampleObj = modelsolar\n",
    "\n",
    "fileObj = open('modelsolar.obj', 'wb')\n",
    "pickle.dump(exampleObj,fileObj)\n",
    "fileObj.close()"
   ]
  },
  {
   "cell_type": "code",
   "execution_count": 46,
   "metadata": {},
   "outputs": [],
   "source": [
    "exampleObj = modelwind\n",
    "\n",
    "fileObj = open('modelwind.obj', 'wb')\n",
    "pickle.dump(exampleObj,fileObj)\n",
    "fileObj.close()"
   ]
  },
  {
   "cell_type": "code",
   "execution_count": 47,
   "metadata": {},
   "outputs": [],
   "source": [
    "score = r2_score(ysolar_test, ysolar_predicted)"
   ]
  },
  {
   "cell_type": "code",
   "execution_count": 48,
   "metadata": {},
   "outputs": [
    {
     "data": {
      "text/plain": [
       "0.9673914744112687"
      ]
     },
     "execution_count": 48,
     "metadata": {},
     "output_type": "execute_result"
    }
   ],
   "source": [
    "score"
   ]
  },
  {
   "cell_type": "code",
   "execution_count": 49,
   "metadata": {},
   "outputs": [],
   "source": [
    "score = r2_score(ywind_test, ywind_predicted)"
   ]
  },
  {
   "cell_type": "code",
   "execution_count": 50,
   "metadata": {},
   "outputs": [
    {
     "data": {
      "text/plain": [
       "0.677572077823845"
      ]
     },
     "execution_count": 50,
     "metadata": {},
     "output_type": "execute_result"
    }
   ],
   "source": [
    "score"
   ]
  },
  {
   "cell_type": "code",
   "execution_count": 52,
   "metadata": {},
   "outputs": [
    {
     "data": {
      "text/plain": [
       "array([42.72741935, 32.13354839, 32.31      , 45.87741935, 31.48903226,\n",
       "       40.55258065, 31.83548387, 29.78387097, 33.05516129, 29.43064516,\n",
       "       41.87322581, 29.36677419, 46.54064516, 28.74483871, 28.98387097,\n",
       "       46.9       , 31.45516129, 43.33032258, 39.93516129, 24.8183871 ,\n",
       "       36.65516129, 33.3116129 , 27.55870968, 47.26258065, 45.34225806,\n",
       "       38.53741935, 42.99193548, 48.40290323, 40.71451613, 40.24870968,\n",
       "       33.33774194, 25.12774194, 29.51967742, 39.96548387, 42.74290323,\n",
       "       27.87483871, 28.59677419, 33.72225806, 42.10709677, 42.30290323,\n",
       "       48.08612903, 43.37290323, 33.92967742, 42.38409677, 27.8116129 ,\n",
       "       46.9816129 , 27.74483871, 30.29903226, 37.99451613, 31.71387097,\n",
       "       42.86483871, 40.75709677, 46.28516129, 47.83290323, 33.15709677,\n",
       "       43.18483871, 29.43258065, 31.22322581, 40.28612903, 30.58709677,\n",
       "       43.45967742, 40.34483871, 30.25419355, 30.95548387, 44.33451613,\n",
       "       31.70451613, 41.43064516, 30.76322581, 40.77806452, 27.93225806,\n",
       "       27.17903226, 37.98387097, 43.98806452, 43.2516129 , 39.4016129 ,\n",
       "       43.85612903, 31.70451613, 28.25935484, 39.83483871, 27.42483871,\n",
       "       27.55806452, 47.76516129, 37.64258065, 26.6283871 , 27.60612903,\n",
       "       42.81451613, 40.63935484, 41.31677419, 46.93903226, 25.12774194,\n",
       "       41.07967742, 31.71      ])"
      ]
     },
     "execution_count": 52,
     "metadata": {},
     "output_type": "execute_result"
    }
   ],
   "source": [
    "ywind_predicted"
   ]
  },
  {
   "cell_type": "code",
   "execution_count": 1,
   "metadata": {},
   "outputs": [
    {
     "name": "stdout",
     "output_type": "stream",
     "text": [
      "Collecting flask_assets\n",
      "  Using cached Flask_Assets-2.0-py3-none-any.whl (8.5 kB)\n",
      "Collecting webassets>=2.0\n",
      "  Using cached webassets-2.0-py3-none-any.whl (142 kB)\n",
      "Requirement already satisfied: Flask>=0.8 in c:\\users\\100008706\\appdata\\local\\continuum\\anaconda3\\lib\\site-packages (from flask_assets) (1.1.1)\n",
      "Requirement already satisfied: Werkzeug>=0.15 in c:\\users\\100008706\\appdata\\local\\continuum\\anaconda3\\lib\\site-packages (from Flask>=0.8->flask_assets) (0.16.0)\n",
      "Requirement already satisfied: itsdangerous>=0.24 in c:\\users\\100008706\\appdata\\local\\continuum\\anaconda3\\lib\\site-packages (from Flask>=0.8->flask_assets) (1.1.0)\n",
      "Requirement already satisfied: click>=5.1 in c:\\users\\100008706\\appdata\\local\\continuum\\anaconda3\\lib\\site-packages (from Flask>=0.8->flask_assets) (7.0)\n",
      "Requirement already satisfied: Jinja2>=2.10.1 in c:\\users\\100008706\\appdata\\local\\continuum\\anaconda3\\lib\\site-packages (from Flask>=0.8->flask_assets) (2.10.3)\n",
      "Requirement already satisfied: MarkupSafe>=0.23 in c:\\users\\100008706\\appdata\\local\\continuum\\anaconda3\\lib\\site-packages (from Jinja2>=2.10.1->Flask>=0.8->flask_assets) (1.1.1)\n",
      "Installing collected packages: webassets, flask-assets\n",
      "Successfully installed flask-assets-2.0 webassets-2.0\n",
      "Note: you may need to restart the kernel to use updated packages.\n"
     ]
    }
   ],
   "source": [
    "pip install flask_assets\n"
   ]
  },
  {
   "cell_type": "code",
   "execution_count": null,
   "metadata": {},
   "outputs": [],
   "source": [
    "pip install dotenv \n"
   ]
  },
  {
   "cell_type": "code",
   "execution_count": null,
   "metadata": {},
   "outputs": [],
   "source": [
    " "
   ]
  },
  {
   "cell_type": "code",
   "execution_count": null,
   "metadata": {},
   "outputs": [],
   "source": []
  }
 ],
 "metadata": {
  "kernelspec": {
   "display_name": "Python 3",
   "language": "python",
   "name": "python3"
  },
  "language_info": {
   "codemirror_mode": {
    "name": "ipython",
    "version": 3
   },
   "file_extension": ".py",
   "mimetype": "text/x-python",
   "name": "python",
   "nbconvert_exporter": "python",
   "pygments_lexer": "ipython3",
   "version": "3.7.4"
  }
 },
 "nbformat": 4,
 "nbformat_minor": 2
}
