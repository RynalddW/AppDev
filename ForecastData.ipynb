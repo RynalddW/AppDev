{
 "cells": [
  {
   "cell_type": "code",
   "execution_count": 2,
   "metadata": {},
   "outputs": [],
   "source": [
    "import requests\n",
    "import pandas as pd\n",
    "from pandas import DataFrame\n",
    "import json\n",
    "import pickle\n",
    "import datetime as dt"
   ]
  },
  {
   "cell_type": "markdown",
   "metadata": {},
   "source": [
    "### SolarGeneration Forecast - Malpas-Trenton, Australia"
   ]
  },
  {
   "cell_type": "code",
   "execution_count": 3,
   "metadata": {},
   "outputs": [],
   "source": [
    "lat = (\"142.15\")\n",
    "lon = (\"19.92\")\n",
    "\n",
    "url = (\"http://www.7timer.info/bin/meteo.php?lon=\" +\n",
    "           str(lon) + \"&lat=\" + str(lat)\n",
    "           +\"&ac=0&unit=British&output=json&tzshift=0\")\n",
    "    \n",
    "data = requests.get(url).json()\n",
    "data_size = len(data[\"dataseries\"])\n",
    "\n",
    "# res = [[key for key in data[\"dataseries\"][0].keys()], *[list(idx.values()) for idx in data[\"dataseries\"] ]]\n",
    "    \n",
    "# clouds = res[2][0]\n",
    "    \n",
    "\n",
    "temp = []\n",
    "cloud = []\n",
    "rain =[]\n",
    "    \n",
    "for item in data[\"dataseries\"]:\n",
    "    temp.append(item[\"temp2m\"])\n",
    "    cloud.append(item[\"cloudcover\"])\n",
    "    rain.append(item[\"prec_amount\"])\n",
    "\n",
    "temp = pd.DataFrame(temp, columns = ['temp_avg']) \n",
    "cloud = pd.DataFrame(cloud, columns = ['Cloud Cover Percentage']) \n",
    "rain = pd.DataFrame(rain, columns = ['Rainfall in mm']) \n"
   ]
  },
  {
   "cell_type": "code",
   "execution_count": null,
   "metadata": {},
   "outputs": [],
   "source": []
  },
  {
   "cell_type": "code",
   "execution_count": 4,
   "metadata": {},
   "outputs": [
    {
     "data": {
      "text/html": [
       "<div>\n",
       "<style scoped>\n",
       "    .dataframe tbody tr th:only-of-type {\n",
       "        vertical-align: middle;\n",
       "    }\n",
       "\n",
       "    .dataframe tbody tr th {\n",
       "        vertical-align: top;\n",
       "    }\n",
       "\n",
       "    .dataframe thead th {\n",
       "        text-align: right;\n",
       "    }\n",
       "</style>\n",
       "<table border=\"1\" class=\"dataframe\">\n",
       "  <thead>\n",
       "    <tr style=\"text-align: right;\">\n",
       "      <th></th>\n",
       "      <th>temp_avg</th>\n",
       "      <th>Cloud Cover Percentage</th>\n",
       "      <th>Rainfall in mm</th>\n",
       "    </tr>\n",
       "  </thead>\n",
       "  <tbody>\n",
       "    <tr>\n",
       "      <td>0</td>\n",
       "      <td>21</td>\n",
       "      <td>1</td>\n",
       "      <td>0</td>\n",
       "    </tr>\n",
       "    <tr>\n",
       "      <td>1</td>\n",
       "      <td>23</td>\n",
       "      <td>1</td>\n",
       "      <td>0</td>\n",
       "    </tr>\n",
       "    <tr>\n",
       "      <td>2</td>\n",
       "      <td>30</td>\n",
       "      <td>1</td>\n",
       "      <td>0</td>\n",
       "    </tr>\n",
       "    <tr>\n",
       "      <td>3</td>\n",
       "      <td>33</td>\n",
       "      <td>2</td>\n",
       "      <td>0</td>\n",
       "    </tr>\n",
       "    <tr>\n",
       "      <td>4</td>\n",
       "      <td>29</td>\n",
       "      <td>5</td>\n",
       "      <td>1</td>\n",
       "    </tr>\n",
       "    <tr>\n",
       "      <td>...</td>\n",
       "      <td>...</td>\n",
       "      <td>...</td>\n",
       "      <td>...</td>\n",
       "    </tr>\n",
       "    <tr>\n",
       "      <td>59</td>\n",
       "      <td>30</td>\n",
       "      <td>9</td>\n",
       "      <td>6</td>\n",
       "    </tr>\n",
       "    <tr>\n",
       "      <td>60</td>\n",
       "      <td>27</td>\n",
       "      <td>9</td>\n",
       "      <td>6</td>\n",
       "    </tr>\n",
       "    <tr>\n",
       "      <td>61</td>\n",
       "      <td>23</td>\n",
       "      <td>7</td>\n",
       "      <td>6</td>\n",
       "    </tr>\n",
       "    <tr>\n",
       "      <td>62</td>\n",
       "      <td>22</td>\n",
       "      <td>3</td>\n",
       "      <td>6</td>\n",
       "    </tr>\n",
       "    <tr>\n",
       "      <td>63</td>\n",
       "      <td>22</td>\n",
       "      <td>5</td>\n",
       "      <td>6</td>\n",
       "    </tr>\n",
       "  </tbody>\n",
       "</table>\n",
       "<p>64 rows × 3 columns</p>\n",
       "</div>"
      ],
      "text/plain": [
       "    temp_avg  Cloud Cover Percentage  Rainfall in mm\n",
       "0         21                       1               0\n",
       "1         23                       1               0\n",
       "2         30                       1               0\n",
       "3         33                       2               0\n",
       "4         29                       5               1\n",
       "..       ...                     ...             ...\n",
       "59        30                       9               6\n",
       "60        27                       9               6\n",
       "61        23                       7               6\n",
       "62        22                       3               6\n",
       "63        22                       5               6\n",
       "\n",
       "[64 rows x 3 columns]"
      ]
     },
     "execution_count": 4,
     "metadata": {},
     "output_type": "execute_result"
    }
   ],
   "source": [
    "solargeneration = pd.concat([temp, cloud, rain], axis=1)\n",
    "solargeneration\n"
   ]
  },
  {
   "cell_type": "code",
   "execution_count": 5,
   "metadata": {},
   "outputs": [
    {
     "name": "stdout",
     "output_type": "stream",
     "text": [
      "RandomForestRegressor(bootstrap=True, criterion='mse', max_depth=None,\n",
      "                      max_features='auto', max_leaf_nodes=None,\n",
      "                      min_impurity_decrease=0.0, min_impurity_split=None,\n",
      "                      min_samples_leaf=1, min_samples_split=2,\n",
      "                      min_weight_fraction_leaf=0.0, n_estimators=31, n_jobs=-1,\n",
      "                      oob_score=False, random_state=None, verbose=0,\n",
      "                      warm_start=False)\n"
     ]
    }
   ],
   "source": [
    "fileObj = open('modelsolar.obj', 'rb')\n",
    "modelsolar = pickle.load(fileObj)\n",
    "fileObj.close()\n",
    "print(modelsolar)"
   ]
  },
  {
   "cell_type": "code",
   "execution_count": 6,
   "metadata": {},
   "outputs": [],
   "source": [
    "Xsolar = solargeneration[['temp_avg', 'Cloud Cover Percentage', 'Rainfall in mm']].values"
   ]
  },
  {
   "cell_type": "code",
   "execution_count": 7,
   "metadata": {},
   "outputs": [],
   "source": [
    "solar_predicted_power = modelsolar.predict(Xsolar)"
   ]
  },
  {
   "cell_type": "code",
   "execution_count": 8,
   "metadata": {},
   "outputs": [
    {
     "data": {
      "text/plain": [
       "array([1.5383871 , 1.5383871 , 1.5383871 , 2.97096774, 5.71516129,\n",
       "       7.02064516, 6.28401306, 8.10032258, 9.36757143, 9.36757143,\n",
       "       9.36757143, 8.10032258, 9.36757143, 8.10032258, 9.36757143,\n",
       "       9.36757143, 9.36757143, 9.36757143, 9.36757143, 9.36757143,\n",
       "       9.36757143, 9.36757143, 9.36757143, 9.36757143, 9.36757143,\n",
       "       9.36757143, 9.36757143, 7.02064516, 7.02064516, 8.10032258,\n",
       "       8.10032258, 8.10032258, 5.71516129, 7.02064516, 9.36757143,\n",
       "       7.02064516, 2.95483871, 4.24225806, 9.36757143, 9.36757143,\n",
       "       9.36757143, 9.36757143, 8.10032258, 9.36757143, 9.36757143,\n",
       "       9.36757143, 9.36757143, 9.36757143, 9.36757143, 9.36757143,\n",
       "       9.36757143, 9.36757143, 9.36757143, 9.36757143, 9.36757143,\n",
       "       9.36757143, 9.36757143, 9.36757143, 9.36757143, 9.36757143,\n",
       "       9.36757143, 7.02064516, 3.51741935, 5.71516129])"
      ]
     },
     "execution_count": 8,
     "metadata": {},
     "output_type": "execute_result"
    }
   ],
   "source": [
    "solar_predicted_power"
   ]
  },
  {
   "cell_type": "code",
   "execution_count": 9,
   "metadata": {},
   "outputs": [],
   "source": [
    "slist = solar_predicted_power.tolist()"
   ]
  },
  {
   "cell_type": "code",
   "execution_count": 10,
   "metadata": {},
   "outputs": [],
   "source": [
    "dfslist = pd.DataFrame(slist, columns = ['Predicted Power'])"
   ]
  },
  {
   "cell_type": "code",
   "execution_count": 11,
   "metadata": {},
   "outputs": [
    {
     "data": {
      "text/html": [
       "<div>\n",
       "<style scoped>\n",
       "    .dataframe tbody tr th:only-of-type {\n",
       "        vertical-align: middle;\n",
       "    }\n",
       "\n",
       "    .dataframe tbody tr th {\n",
       "        vertical-align: top;\n",
       "    }\n",
       "\n",
       "    .dataframe thead th {\n",
       "        text-align: right;\n",
       "    }\n",
       "</style>\n",
       "<table border=\"1\" class=\"dataframe\">\n",
       "  <thead>\n",
       "    <tr style=\"text-align: right;\">\n",
       "      <th></th>\n",
       "      <th>Predicted Power</th>\n",
       "    </tr>\n",
       "  </thead>\n",
       "  <tbody>\n",
       "    <tr>\n",
       "      <td>0</td>\n",
       "      <td>1.538387</td>\n",
       "    </tr>\n",
       "    <tr>\n",
       "      <td>1</td>\n",
       "      <td>1.538387</td>\n",
       "    </tr>\n",
       "    <tr>\n",
       "      <td>2</td>\n",
       "      <td>1.538387</td>\n",
       "    </tr>\n",
       "    <tr>\n",
       "      <td>3</td>\n",
       "      <td>2.970968</td>\n",
       "    </tr>\n",
       "    <tr>\n",
       "      <td>4</td>\n",
       "      <td>5.715161</td>\n",
       "    </tr>\n",
       "    <tr>\n",
       "      <td>...</td>\n",
       "      <td>...</td>\n",
       "    </tr>\n",
       "    <tr>\n",
       "      <td>59</td>\n",
       "      <td>9.367571</td>\n",
       "    </tr>\n",
       "    <tr>\n",
       "      <td>60</td>\n",
       "      <td>9.367571</td>\n",
       "    </tr>\n",
       "    <tr>\n",
       "      <td>61</td>\n",
       "      <td>7.020645</td>\n",
       "    </tr>\n",
       "    <tr>\n",
       "      <td>62</td>\n",
       "      <td>3.517419</td>\n",
       "    </tr>\n",
       "    <tr>\n",
       "      <td>63</td>\n",
       "      <td>5.715161</td>\n",
       "    </tr>\n",
       "  </tbody>\n",
       "</table>\n",
       "<p>64 rows × 1 columns</p>\n",
       "</div>"
      ],
      "text/plain": [
       "    Predicted Power\n",
       "0          1.538387\n",
       "1          1.538387\n",
       "2          1.538387\n",
       "3          2.970968\n",
       "4          5.715161\n",
       "..              ...\n",
       "59         9.367571\n",
       "60         9.367571\n",
       "61         7.020645\n",
       "62         3.517419\n",
       "63         5.715161\n",
       "\n",
       "[64 rows x 1 columns]"
      ]
     },
     "execution_count": 11,
     "metadata": {},
     "output_type": "execute_result"
    }
   ],
   "source": [
    "dfslist"
   ]
  },
  {
   "cell_type": "code",
   "execution_count": 12,
   "metadata": {},
   "outputs": [],
   "source": [
    "dfslist[\"date\"] = pd.DataFrame({\"date\":pd.date_range(dt.datetime.now().strftime('%H:%M:%S'), periods=64, freq='3h')})\n"
   ]
  },
  {
   "cell_type": "code",
   "execution_count": 13,
   "metadata": {},
   "outputs": [],
   "source": [
    "dfslist = dfslist.resample('24h', on = 'date').mean()"
   ]
  },
  {
   "cell_type": "code",
   "execution_count": 14,
   "metadata": {},
   "outputs": [
    {
     "data": {
      "text/html": [
       "<div>\n",
       "<style scoped>\n",
       "    .dataframe tbody tr th:only-of-type {\n",
       "        vertical-align: middle;\n",
       "    }\n",
       "\n",
       "    .dataframe tbody tr th {\n",
       "        vertical-align: top;\n",
       "    }\n",
       "\n",
       "    .dataframe thead th {\n",
       "        text-align: right;\n",
       "    }\n",
       "</style>\n",
       "<table border=\"1\" class=\"dataframe\">\n",
       "  <thead>\n",
       "    <tr style=\"text-align: right;\">\n",
       "      <th></th>\n",
       "      <th>Predicted Power</th>\n",
       "    </tr>\n",
       "    <tr>\n",
       "      <th>date</th>\n",
       "      <th></th>\n",
       "    </tr>\n",
       "  </thead>\n",
       "  <tbody>\n",
       "    <tr>\n",
       "      <td>2020-09-25</td>\n",
       "      <td>1.538387</td>\n",
       "    </tr>\n",
       "    <tr>\n",
       "      <td>2020-09-26</td>\n",
       "      <td>7.274228</td>\n",
       "    </tr>\n",
       "    <tr>\n",
       "      <td>2020-09-27</td>\n",
       "      <td>9.050759</td>\n",
       "    </tr>\n",
       "    <tr>\n",
       "      <td>2020-09-28</td>\n",
       "      <td>9.367571</td>\n",
       "    </tr>\n",
       "    <tr>\n",
       "      <td>2020-09-29</td>\n",
       "      <td>7.555704</td>\n",
       "    </tr>\n",
       "    <tr>\n",
       "      <td>2020-09-30</td>\n",
       "      <td>7.473544</td>\n",
       "    </tr>\n",
       "    <tr>\n",
       "      <td>2020-10-01</td>\n",
       "      <td>9.367571</td>\n",
       "    </tr>\n",
       "    <tr>\n",
       "      <td>2020-10-02</td>\n",
       "      <td>9.367571</td>\n",
       "    </tr>\n",
       "    <tr>\n",
       "      <td>2020-10-03</td>\n",
       "      <td>6.997674</td>\n",
       "    </tr>\n",
       "  </tbody>\n",
       "</table>\n",
       "</div>"
      ],
      "text/plain": [
       "            Predicted Power\n",
       "date                       \n",
       "2020-09-25         1.538387\n",
       "2020-09-26         7.274228\n",
       "2020-09-27         9.050759\n",
       "2020-09-28         9.367571\n",
       "2020-09-29         7.555704\n",
       "2020-09-30         7.473544\n",
       "2020-10-01         9.367571\n",
       "2020-10-02         9.367571\n",
       "2020-10-03         6.997674"
      ]
     },
     "execution_count": 14,
     "metadata": {},
     "output_type": "execute_result"
    }
   ],
   "source": [
    "dfslist"
   ]
  },
  {
   "cell_type": "markdown",
   "metadata": {},
   "source": [
    "## WindGeneration Forecast - Klushof, Germany"
   ]
  },
  {
   "cell_type": "code",
   "execution_count": 15,
   "metadata": {},
   "outputs": [],
   "source": [
    "lon = (\"53.56\")\n",
    "lat = (\"8.59\")\n",
    "\n",
    "url = (\"http://www.7timer.info/bin/meteo.php?lon=\" +\n",
    "           str(lon) + \"&lat=\" + str(lat)\n",
    "           +\"&ac=0&unit=British&output=json&tzshift=0\")\n",
    "    \n",
    "data = requests.get(url).json()\n",
    "data_size = len(data[\"dataseries\"])\n",
    "\n",
    "# res = [[key for key in data[\"dataseries\"][0].keys()], *[list(idx.values()) for idx in data[\"dataseries\"] ]]\n",
    "    \n",
    "# clouds = res[2][0]\n",
    "    \n",
    "wind =[]\n",
    "\n",
    "    \n",
    "for item in data[\"dataseries\"]:\n",
    "    wind.append(item[\"wind10m\"])\n",
    "    \n",
    "\n",
    "wind = pd.DataFrame(wind)"
   ]
  },
  {
   "cell_type": "code",
   "execution_count": 16,
   "metadata": {},
   "outputs": [],
   "source": [
    "#wind['wind speed'] = wind['speed'], replace\n",
    "\n",
    "wind = wind.rename(columns = {'speed': 'wind speed'}, inplace = False)"
   ]
  },
  {
   "cell_type": "code",
   "execution_count": 17,
   "metadata": {},
   "outputs": [
    {
     "data": {
      "text/html": [
       "<div>\n",
       "<style scoped>\n",
       "    .dataframe tbody tr th:only-of-type {\n",
       "        vertical-align: middle;\n",
       "    }\n",
       "\n",
       "    .dataframe tbody tr th {\n",
       "        vertical-align: top;\n",
       "    }\n",
       "\n",
       "    .dataframe thead th {\n",
       "        text-align: right;\n",
       "    }\n",
       "</style>\n",
       "<table border=\"1\" class=\"dataframe\">\n",
       "  <thead>\n",
       "    <tr style=\"text-align: right;\">\n",
       "      <th></th>\n",
       "      <th>direction</th>\n",
       "      <th>wind speed</th>\n",
       "    </tr>\n",
       "  </thead>\n",
       "  <tbody>\n",
       "    <tr>\n",
       "      <td>0</td>\n",
       "      <td>220</td>\n",
       "      <td>5</td>\n",
       "    </tr>\n",
       "    <tr>\n",
       "      <td>1</td>\n",
       "      <td>225</td>\n",
       "      <td>5</td>\n",
       "    </tr>\n",
       "    <tr>\n",
       "      <td>2</td>\n",
       "      <td>230</td>\n",
       "      <td>5</td>\n",
       "    </tr>\n",
       "    <tr>\n",
       "      <td>3</td>\n",
       "      <td>225</td>\n",
       "      <td>5</td>\n",
       "    </tr>\n",
       "    <tr>\n",
       "      <td>4</td>\n",
       "      <td>210</td>\n",
       "      <td>5</td>\n",
       "    </tr>\n",
       "    <tr>\n",
       "      <td>...</td>\n",
       "      <td>...</td>\n",
       "      <td>...</td>\n",
       "    </tr>\n",
       "    <tr>\n",
       "      <td>59</td>\n",
       "      <td>230</td>\n",
       "      <td>3</td>\n",
       "    </tr>\n",
       "    <tr>\n",
       "      <td>60</td>\n",
       "      <td>220</td>\n",
       "      <td>3</td>\n",
       "    </tr>\n",
       "    <tr>\n",
       "      <td>61</td>\n",
       "      <td>200</td>\n",
       "      <td>3</td>\n",
       "    </tr>\n",
       "    <tr>\n",
       "      <td>62</td>\n",
       "      <td>190</td>\n",
       "      <td>3</td>\n",
       "    </tr>\n",
       "    <tr>\n",
       "      <td>63</td>\n",
       "      <td>200</td>\n",
       "      <td>3</td>\n",
       "    </tr>\n",
       "  </tbody>\n",
       "</table>\n",
       "<p>64 rows × 2 columns</p>\n",
       "</div>"
      ],
      "text/plain": [
       "   direction  wind speed\n",
       "0        220           5\n",
       "1        225           5\n",
       "2        230           5\n",
       "3        225           5\n",
       "4        210           5\n",
       "..       ...         ...\n",
       "59       230           3\n",
       "60       220           3\n",
       "61       200           3\n",
       "62       190           3\n",
       "63       200           3\n",
       "\n",
       "[64 rows x 2 columns]"
      ]
     },
     "execution_count": 17,
     "metadata": {},
     "output_type": "execute_result"
    }
   ],
   "source": [
    "wind"
   ]
  },
  {
   "cell_type": "code",
   "execution_count": 18,
   "metadata": {},
   "outputs": [
    {
     "name": "stdout",
     "output_type": "stream",
     "text": [
      "RandomForestRegressor(bootstrap=True, criterion='mse', max_depth=None,\n",
      "                      max_features='auto', max_leaf_nodes=None,\n",
      "                      min_impurity_decrease=0.0, min_impurity_split=None,\n",
      "                      min_samples_leaf=1, min_samples_split=2,\n",
      "                      min_weight_fraction_leaf=0.0, n_estimators=31, n_jobs=-1,\n",
      "                      oob_score=False, random_state=None, verbose=0,\n",
      "                      warm_start=False)\n"
     ]
    }
   ],
   "source": [
    "fileObj = open('modelwind.obj', 'rb')\n",
    "modelwind = pickle.load(fileObj)\n",
    "fileObj.close()\n",
    "print(modelwind)"
   ]
  },
  {
   "cell_type": "code",
   "execution_count": 19,
   "metadata": {},
   "outputs": [],
   "source": [
    "Xwind = wind[['wind speed', 'direction']].values"
   ]
  },
  {
   "cell_type": "code",
   "execution_count": 20,
   "metadata": {},
   "outputs": [
    {
     "data": {
      "text/plain": [
       "array([[5, '220'],\n",
       "       [5, '225'],\n",
       "       [5, '230'],\n",
       "       [5, '225'],\n",
       "       [5, '210'],\n",
       "       [5, '205'],\n",
       "       [5, '210'],\n",
       "       [5, '225'],\n",
       "       [5, '220'],\n",
       "       [5, '220'],\n",
       "       [5, '225'],\n",
       "       [5, '225'],\n",
       "       [5, '205'],\n",
       "       [5, '205'],\n",
       "       [5, '210'],\n",
       "       [5, '215'],\n",
       "       [5, '220'],\n",
       "       [4, '220'],\n",
       "       [5, '220'],\n",
       "       [4, '220'],\n",
       "       [5, '200'],\n",
       "       [5, '195'],\n",
       "       [4, '195'],\n",
       "       [4, '210'],\n",
       "       [4, '210'],\n",
       "       [4, '215'],\n",
       "       [4, '220'],\n",
       "       [4, '215'],\n",
       "       [4, '205'],\n",
       "       [4, '185'],\n",
       "       [4, '185'],\n",
       "       [4, '190'],\n",
       "       [4, '195'],\n",
       "       [3, '200'],\n",
       "       [3, '220'],\n",
       "       [3, '220'],\n",
       "       [3, '200'],\n",
       "       [3, '190'],\n",
       "       [3, '185'],\n",
       "       [4, '180'],\n",
       "       [3, '175'],\n",
       "       [3, '185'],\n",
       "       [3, '190'],\n",
       "       [3, '195'],\n",
       "       [3, '190'],\n",
       "       [3, '180'],\n",
       "       [3, '180'],\n",
       "       [3, '180'],\n",
       "       [3, '185'],\n",
       "       [3, '195'],\n",
       "       [3, '205'],\n",
       "       [3, '205'],\n",
       "       [3, '210'],\n",
       "       [3, '200'],\n",
       "       [3, '200'],\n",
       "       [4, '190'],\n",
       "       [3, '200'],\n",
       "       [3, '205'],\n",
       "       [3, '230'],\n",
       "       [3, '230'],\n",
       "       [3, '220'],\n",
       "       [3, '200'],\n",
       "       [3, '190'],\n",
       "       [3, '200']], dtype=object)"
      ]
     },
     "execution_count": 20,
     "metadata": {},
     "output_type": "execute_result"
    }
   ],
   "source": [
    "Xwind"
   ]
  },
  {
   "cell_type": "code",
   "execution_count": 21,
   "metadata": {},
   "outputs": [],
   "source": [
    "wind_predicted_power = modelwind.predict(Xwind)"
   ]
  },
  {
   "cell_type": "code",
   "execution_count": 22,
   "metadata": {},
   "outputs": [
    {
     "data": {
      "text/plain": [
       "array([26.78      , 41.02935484, 40.36645161, 41.02935484, 27.21193548,\n",
       "       29.15225806, 27.21193548, 41.02935484, 26.78      , 26.78      ,\n",
       "       41.02935484, 41.02935484, 29.15225806, 29.15225806, 27.21193548,\n",
       "       28.46612903, 26.78      , 26.78      , 26.78      , 26.78      ,\n",
       "       29.15225806, 29.15225806, 29.15225806, 27.21193548, 27.21193548,\n",
       "       28.46612903, 26.78      , 28.46612903, 29.15225806, 29.15225806,\n",
       "       29.15225806, 29.15225806, 29.15225806, 29.15225806, 26.78      ,\n",
       "       26.78      , 29.15225806, 29.15225806, 29.15225806, 29.15225806,\n",
       "       29.15225806, 29.15225806, 29.15225806, 29.15225806, 29.15225806,\n",
       "       29.15225806, 29.15225806, 29.15225806, 29.15225806, 29.15225806,\n",
       "       29.15225806, 29.15225806, 27.21193548, 29.15225806, 29.15225806,\n",
       "       29.15225806, 29.15225806, 29.15225806, 40.36645161, 40.36645161,\n",
       "       26.78      , 29.15225806, 29.15225806, 29.15225806])"
      ]
     },
     "execution_count": 22,
     "metadata": {},
     "output_type": "execute_result"
    }
   ],
   "source": [
    "wind_predicted_power"
   ]
  },
  {
   "cell_type": "code",
   "execution_count": 23,
   "metadata": {},
   "outputs": [],
   "source": [
    "wlist = wind_predicted_power.tolist()"
   ]
  },
  {
   "cell_type": "code",
   "execution_count": 24,
   "metadata": {},
   "outputs": [],
   "source": [
    "dfwlist = pd.DataFrame(wlist, columns = ['Predicted Power'])"
   ]
  },
  {
   "cell_type": "code",
   "execution_count": 25,
   "metadata": {},
   "outputs": [],
   "source": [
    "dfwlist[\"date\"] = pd.DataFrame({\"date\":pd.date_range(dt.datetime.now().strftime('%H:%M:%S'), periods=64, freq='3h')})"
   ]
  },
  {
   "cell_type": "code",
   "execution_count": 26,
   "metadata": {},
   "outputs": [],
   "source": [
    "dfwlist = dfwlist.resample('24h', on = 'date').mean()"
   ]
  },
  {
   "cell_type": "code",
   "execution_count": null,
   "metadata": {},
   "outputs": [],
   "source": []
  },
  {
   "cell_type": "code",
   "execution_count": 27,
   "metadata": {},
   "outputs": [],
   "source": [
    "dfwlist = dfwlist.head(5)\n",
    "dfwlist = dfwlist.iloc[1:]\n",
    "dfwlist = dfwlist.reset_index()"
   ]
  },
  {
   "cell_type": "code",
   "execution_count": 28,
   "metadata": {},
   "outputs": [],
   "source": [
    "dfwlist.columns = dfwlist.columns.str.replace(' ','_')   "
   ]
  },
  {
   "cell_type": "code",
   "execution_count": 29,
   "metadata": {},
   "outputs": [],
   "source": [
    "\n",
    "\n",
    "dfwlist['day'] = pd.DatetimeIndex(dfwlist['date']).day\n"
   ]
  },
  {
   "cell_type": "code",
   "execution_count": 30,
   "metadata": {},
   "outputs": [
    {
     "data": {
      "text/html": [
       "<div>\n",
       "<style scoped>\n",
       "    .dataframe tbody tr th:only-of-type {\n",
       "        vertical-align: middle;\n",
       "    }\n",
       "\n",
       "    .dataframe tbody tr th {\n",
       "        vertical-align: top;\n",
       "    }\n",
       "\n",
       "    .dataframe thead th {\n",
       "        text-align: right;\n",
       "    }\n",
       "</style>\n",
       "<table border=\"1\" class=\"dataframe\">\n",
       "  <thead>\n",
       "    <tr style=\"text-align: right;\">\n",
       "      <th></th>\n",
       "      <th>date</th>\n",
       "      <th>Predicted_Power</th>\n",
       "      <th>day</th>\n",
       "    </tr>\n",
       "  </thead>\n",
       "  <tbody>\n",
       "    <tr>\n",
       "      <td>0</td>\n",
       "      <td>2020-09-26</td>\n",
       "      <td>32.528024</td>\n",
       "      <td>26</td>\n",
       "    </tr>\n",
       "    <tr>\n",
       "      <td>1</td>\n",
       "      <td>2020-09-27</td>\n",
       "      <td>29.418992</td>\n",
       "      <td>27</td>\n",
       "    </tr>\n",
       "    <tr>\n",
       "      <td>2</td>\n",
       "      <td>2020-09-28</td>\n",
       "      <td>27.988347</td>\n",
       "      <td>28</td>\n",
       "    </tr>\n",
       "    <tr>\n",
       "      <td>3</td>\n",
       "      <td>2020-09-29</td>\n",
       "      <td>28.769960</td>\n",
       "      <td>29</td>\n",
       "    </tr>\n",
       "  </tbody>\n",
       "</table>\n",
       "</div>"
      ],
      "text/plain": [
       "        date  Predicted_Power  day\n",
       "0 2020-09-26        32.528024   26\n",
       "1 2020-09-27        29.418992   27\n",
       "2 2020-09-28        27.988347   28\n",
       "3 2020-09-29        28.769960   29"
      ]
     },
     "execution_count": 30,
     "metadata": {},
     "output_type": "execute_result"
    }
   ],
   "source": [
    "dfwlist"
   ]
  },
  {
   "cell_type": "code",
   "execution_count": null,
   "metadata": {},
   "outputs": [],
   "source": []
  },
  {
   "cell_type": "code",
   "execution_count": 31,
   "metadata": {},
   "outputs": [],
   "source": [
    "#cols = pd.read_csv('maint.csv', nrows=0).columns.tolist()\n",
    "\n",
    "maint = pd.read_csv('maintwind.csv')"
   ]
  },
  {
   "cell_type": "code",
   "execution_count": 32,
   "metadata": {},
   "outputs": [],
   "source": [
    "maint=maint.rename(columns = {'Date Of Month':'day'})"
   ]
  },
  {
   "cell_type": "code",
   "execution_count": 33,
   "metadata": {},
   "outputs": [],
   "source": [
    "maint.columns = maint.columns.str.replace(' ','_')"
   ]
  },
  {
   "cell_type": "code",
   "execution_count": 34,
   "metadata": {},
   "outputs": [
    {
     "data": {
      "text/html": [
       "<div>\n",
       "<style scoped>\n",
       "    .dataframe tbody tr th:only-of-type {\n",
       "        vertical-align: middle;\n",
       "    }\n",
       "\n",
       "    .dataframe tbody tr th {\n",
       "        vertical-align: top;\n",
       "    }\n",
       "\n",
       "    .dataframe thead th {\n",
       "        text-align: right;\n",
       "    }\n",
       "</style>\n",
       "<table border=\"1\" class=\"dataframe\">\n",
       "  <thead>\n",
       "    <tr style=\"text-align: right;\">\n",
       "      <th></th>\n",
       "      <th>date</th>\n",
       "      <th>Predicted_Power</th>\n",
       "      <th>day</th>\n",
       "    </tr>\n",
       "  </thead>\n",
       "  <tbody>\n",
       "    <tr>\n",
       "      <td>0</td>\n",
       "      <td>2020-09-26</td>\n",
       "      <td>32.528024</td>\n",
       "      <td>26</td>\n",
       "    </tr>\n",
       "    <tr>\n",
       "      <td>1</td>\n",
       "      <td>2020-09-27</td>\n",
       "      <td>29.418992</td>\n",
       "      <td>27</td>\n",
       "    </tr>\n",
       "    <tr>\n",
       "      <td>2</td>\n",
       "      <td>2020-09-28</td>\n",
       "      <td>27.988347</td>\n",
       "      <td>28</td>\n",
       "    </tr>\n",
       "    <tr>\n",
       "      <td>3</td>\n",
       "      <td>2020-09-29</td>\n",
       "      <td>28.769960</td>\n",
       "      <td>29</td>\n",
       "    </tr>\n",
       "  </tbody>\n",
       "</table>\n",
       "</div>"
      ],
      "text/plain": [
       "        date  Predicted_Power  day\n",
       "0 2020-09-26        32.528024   26\n",
       "1 2020-09-27        29.418992   27\n",
       "2 2020-09-28        27.988347   28\n",
       "3 2020-09-29        28.769960   29"
      ]
     },
     "execution_count": 34,
     "metadata": {},
     "output_type": "execute_result"
    }
   ],
   "source": [
    "dfwlist"
   ]
  },
  {
   "cell_type": "code",
   "execution_count": 35,
   "metadata": {},
   "outputs": [],
   "source": [
    "dfwlist =dfwlist.merge(maint,left_on='day',right_on='day',how='left')"
   ]
  },
  {
   "cell_type": "code",
   "execution_count": 36,
   "metadata": {},
   "outputs": [
    {
     "data": {
      "text/html": [
       "<div>\n",
       "<style scoped>\n",
       "    .dataframe tbody tr th:only-of-type {\n",
       "        vertical-align: middle;\n",
       "    }\n",
       "\n",
       "    .dataframe tbody tr th {\n",
       "        vertical-align: top;\n",
       "    }\n",
       "\n",
       "    .dataframe thead th {\n",
       "        text-align: right;\n",
       "    }\n",
       "</style>\n",
       "<table border=\"1\" class=\"dataframe\">\n",
       "  <thead>\n",
       "    <tr style=\"text-align: right;\">\n",
       "      <th></th>\n",
       "      <th>date</th>\n",
       "      <th>Predicted_Power</th>\n",
       "      <th>day</th>\n",
       "      <th>Capacity_Available</th>\n",
       "    </tr>\n",
       "  </thead>\n",
       "  <tbody>\n",
       "    <tr>\n",
       "      <td>0</td>\n",
       "      <td>2020-09-26</td>\n",
       "      <td>32.528024</td>\n",
       "      <td>26</td>\n",
       "      <td>NaN</td>\n",
       "    </tr>\n",
       "    <tr>\n",
       "      <td>1</td>\n",
       "      <td>2020-09-27</td>\n",
       "      <td>29.418992</td>\n",
       "      <td>27</td>\n",
       "      <td>NaN</td>\n",
       "    </tr>\n",
       "    <tr>\n",
       "      <td>2</td>\n",
       "      <td>2020-09-28</td>\n",
       "      <td>27.988347</td>\n",
       "      <td>28</td>\n",
       "      <td>3.0</td>\n",
       "    </tr>\n",
       "    <tr>\n",
       "      <td>3</td>\n",
       "      <td>2020-09-29</td>\n",
       "      <td>28.769960</td>\n",
       "      <td>29</td>\n",
       "      <td>NaN</td>\n",
       "    </tr>\n",
       "  </tbody>\n",
       "</table>\n",
       "</div>"
      ],
      "text/plain": [
       "        date  Predicted_Power  day  Capacity_Available\n",
       "0 2020-09-26        32.528024   26                 NaN\n",
       "1 2020-09-27        29.418992   27                 NaN\n",
       "2 2020-09-28        27.988347   28                 3.0\n",
       "3 2020-09-29        28.769960   29                 NaN"
      ]
     },
     "execution_count": 36,
     "metadata": {},
     "output_type": "execute_result"
    }
   ],
   "source": [
    "dfwlist"
   ]
  },
  {
   "cell_type": "code",
   "execution_count": 37,
   "metadata": {},
   "outputs": [],
   "source": [
    "dfwlist = dfwlist.fillna(10)"
   ]
  },
  {
   "cell_type": "code",
   "execution_count": 38,
   "metadata": {},
   "outputs": [],
   "source": [
    "dfwlist[\"Predicted\"] = dfwlist[\"Predicted_Power\"] * dfwlist[\"Capacity_Available\"] *0.1"
   ]
  },
  {
   "cell_type": "code",
   "execution_count": 39,
   "metadata": {},
   "outputs": [
    {
     "data": {
      "text/html": [
       "<div>\n",
       "<style scoped>\n",
       "    .dataframe tbody tr th:only-of-type {\n",
       "        vertical-align: middle;\n",
       "    }\n",
       "\n",
       "    .dataframe tbody tr th {\n",
       "        vertical-align: top;\n",
       "    }\n",
       "\n",
       "    .dataframe thead th {\n",
       "        text-align: right;\n",
       "    }\n",
       "</style>\n",
       "<table border=\"1\" class=\"dataframe\">\n",
       "  <thead>\n",
       "    <tr style=\"text-align: right;\">\n",
       "      <th></th>\n",
       "      <th>date</th>\n",
       "      <th>Predicted_Power</th>\n",
       "      <th>day</th>\n",
       "      <th>Capacity_Available</th>\n",
       "      <th>Predicted</th>\n",
       "    </tr>\n",
       "  </thead>\n",
       "  <tbody>\n",
       "    <tr>\n",
       "      <td>0</td>\n",
       "      <td>2020-09-26</td>\n",
       "      <td>32.528024</td>\n",
       "      <td>26</td>\n",
       "      <td>10.0</td>\n",
       "      <td>32.528024</td>\n",
       "    </tr>\n",
       "    <tr>\n",
       "      <td>1</td>\n",
       "      <td>2020-09-27</td>\n",
       "      <td>29.418992</td>\n",
       "      <td>27</td>\n",
       "      <td>10.0</td>\n",
       "      <td>29.418992</td>\n",
       "    </tr>\n",
       "    <tr>\n",
       "      <td>2</td>\n",
       "      <td>2020-09-28</td>\n",
       "      <td>27.988347</td>\n",
       "      <td>28</td>\n",
       "      <td>3.0</td>\n",
       "      <td>8.396504</td>\n",
       "    </tr>\n",
       "    <tr>\n",
       "      <td>3</td>\n",
       "      <td>2020-09-29</td>\n",
       "      <td>28.769960</td>\n",
       "      <td>29</td>\n",
       "      <td>10.0</td>\n",
       "      <td>28.769960</td>\n",
       "    </tr>\n",
       "  </tbody>\n",
       "</table>\n",
       "</div>"
      ],
      "text/plain": [
       "        date  Predicted_Power  day  Capacity_Available  Predicted\n",
       "0 2020-09-26        32.528024   26                10.0  32.528024\n",
       "1 2020-09-27        29.418992   27                10.0  29.418992\n",
       "2 2020-09-28        27.988347   28                 3.0   8.396504\n",
       "3 2020-09-29        28.769960   29                10.0  28.769960"
      ]
     },
     "execution_count": 39,
     "metadata": {},
     "output_type": "execute_result"
    }
   ],
   "source": [
    "dfwlist"
   ]
  },
  {
   "cell_type": "code",
   "execution_count": 40,
   "metadata": {},
   "outputs": [
    {
     "name": "stdout",
     "output_type": "stream",
     "text": [
      "Requirement already satisfied: twilio in c:\\users\\100008706\\appdata\\local\\continuum\\anaconda3\\lib\\site-packages (6.45.3)\n",
      "Requirement already satisfied: requests>=2.0.0; python_version >= \"3.0\" in c:\\users\\100008706\\appdata\\local\\continuum\\anaconda3\\lib\\site-packages (from twilio) (2.22.0)\n",
      "Requirement already satisfied: PyJWT>=1.4.2 in c:\\users\\100008706\\appdata\\local\\continuum\\anaconda3\\lib\\site-packages (from twilio) (1.7.1)\n",
      "Requirement already satisfied: six in c:\\users\\100008706\\appdata\\local\\continuum\\anaconda3\\lib\\site-packages (from twilio) (1.12.0)\n",
      "Requirement already satisfied: pytz in c:\\users\\100008706\\appdata\\local\\continuum\\anaconda3\\lib\\site-packages (from twilio) (2019.3)\n",
      "Requirement already satisfied: certifi>=2017.4.17 in c:\\users\\100008706\\appdata\\local\\continuum\\anaconda3\\lib\\site-packages (from requests>=2.0.0; python_version >= \"3.0\"->twilio) (2019.9.11)\n",
      "Requirement already satisfied: chardet<3.1.0,>=3.0.2 in c:\\users\\100008706\\appdata\\local\\continuum\\anaconda3\\lib\\site-packages (from requests>=2.0.0; python_version >= \"3.0\"->twilio) (3.0.4)\n",
      "Requirement already satisfied: urllib3!=1.25.0,!=1.25.1,<1.26,>=1.21.1 in c:\\users\\100008706\\appdata\\local\\continuum\\anaconda3\\lib\\site-packages (from requests>=2.0.0; python_version >= \"3.0\"->twilio) (1.24.2)\n",
      "Requirement already satisfied: idna<2.9,>=2.5 in c:\\users\\100008706\\appdata\\local\\continuum\\anaconda3\\lib\\site-packages (from requests>=2.0.0; python_version >= \"3.0\"->twilio) (2.8)\n",
      "Note: you may need to restart the kernel to use updated packages.\n"
     ]
    }
   ],
   "source": [
    "pip install twilio"
   ]
  },
  {
   "cell_type": "code",
   "execution_count": null,
   "metadata": {},
   "outputs": [],
   "source": []
  }
 ],
 "metadata": {
  "kernelspec": {
   "display_name": "Python 3",
   "language": "python",
   "name": "python3"
  },
  "language_info": {
   "codemirror_mode": {
    "name": "ipython",
    "version": 3
   },
   "file_extension": ".py",
   "mimetype": "text/x-python",
   "name": "python",
   "nbconvert_exporter": "python",
   "pygments_lexer": "ipython3",
   "version": "3.7.4"
  }
 },
 "nbformat": 4,
 "nbformat_minor": 2
}
